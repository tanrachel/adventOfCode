{
 "cells": [
  {
   "cell_type": "code",
   "execution_count": 22,
   "metadata": {},
   "outputs": [
    {
     "name": "stdout",
     "output_type": "stream",
     "text": [
      "1995001648\n"
     ]
    }
   ],
   "source": [
    "f = open(\"day9.txt\", \"r\")\n",
    "day9 = (f.read()).split(\"\\n\")\n",
    "\n",
    "def isZero(row):\n",
    "    for i in row:\n",
    "        if i != 0:\n",
    "            return False \n",
    "    return True\n",
    "def calculate(row):\n",
    "    tempRow = []\n",
    "    \n",
    "    for i in range(1, len(row)):\n",
    "        tempRow.append(row[i]-row[i-1])\n",
    "    return tempRow \n",
    "counter = 0\n",
    "def looper(row,counter):\n",
    "    # print(\"currently at: \", row)\n",
    "    if isZero(row):\n",
    "        # print(\"returning: isZero: \", row)\n",
    "        return row[-1]\n",
    "    else:\n",
    "        nextRow = calculate(row)\n",
    "        valToAdd = looper(nextRow, counter)\n",
    "        return row[-1]+valToAdd\n",
    "# test = looper([0,3,6,9,12,15], counter)\n",
    "# print(test)\n",
    "# print(counter)\n",
    "        \n",
    "# test = looper([1,3,6,10,15,21], counter)\n",
    "# print(test)\n",
    "# print(counter)\n",
    "\n",
    "# test = looper([10,13,16,21,30,45], counter)\n",
    "# print(test)\n",
    "# print(counter)\n",
    "totalSum = 0\n",
    "for i in day9:\n",
    "    row = i.split(\" \")\n",
    "    row = [int(x) for x in row]\n",
    "    total = looper(row,counter)\n",
    "    totalSum  += total\n",
    "print(totalSum)"
   ]
  },
  {
   "cell_type": "code",
   "execution_count": 32,
   "metadata": {},
   "outputs": [
    {
     "name": "stdout",
     "output_type": "stream",
     "text": [
      "988\n"
     ]
    }
   ],
   "source": [
    "counter = 0\n",
    "def reverselooper(row,counter):\n",
    "    if isZero(row):\n",
    "        return row[0]\n",
    "    else:\n",
    "        nextRow = calculate(row)\n",
    "        valToAdd = reverselooper(nextRow, counter)\n",
    "        return row[0]-valToAdd\n",
    "\n",
    "totalSum = 0\n",
    "for i in day9:\n",
    "    row = i.split(\" \")\n",
    "    row = [int(x) for x in row]\n",
    "    total = reverselooper(row,counter)\n",
    "    totalSum  += total\n",
    "print(totalSum)\n"
   ]
  }
 ],
 "metadata": {
  "kernelspec": {
   "display_name": "Python 3",
   "language": "python",
   "name": "python3"
  },
  "language_info": {
   "codemirror_mode": {
    "name": "ipython",
    "version": 3
   },
   "file_extension": ".py",
   "mimetype": "text/x-python",
   "name": "python",
   "nbconvert_exporter": "python",
   "pygments_lexer": "ipython3",
   "version": "3.11.6"
  }
 },
 "nbformat": 4,
 "nbformat_minor": 2
}
